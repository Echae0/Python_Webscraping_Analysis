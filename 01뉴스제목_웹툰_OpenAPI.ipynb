{
 "cells": [
  {
   "cell_type": "markdown",
   "id": "eb0bfa44",
   "metadata": {},
   "source": [
    "## 1. 뉴스제목 가져오기\n",
    "* user-agent 요청헤더를 반드시 설정해야 한다."
   ]
  },
  {
   "cell_type": "code",
   "execution_count": 1,
   "id": "f0d27781",
   "metadata": {},
   "outputs": [
    {
     "name": "stdout",
     "output_type": "stream",
     "text": [
      "Name: requests\n",
      "Version: 2.32.3\n",
      "Summary: Python HTTP for Humans.\n",
      "Home-page: https://requests.readthedocs.io\n",
      "Author: Kenneth Reitz\n",
      "Author-email: me@kennethreitz.org\n",
      "License: Apache-2.0\n",
      "Location: c:\\Users\\user\\anaconda3\\Lib\\site-packages\n",
      "Requires: certifi, charset-normalizer, idna, urllib3\n",
      "Required-by: anaconda-catalogs, anaconda-client, anaconda-cloud-auth, anaconda-project, conda, conda-build, conda-repo-cli, conda_package_streaming, cookiecutter, datashader, jupyterlab_server, panel, requests-file, requests-toolbelt, Sphinx, streamlit, tldextract\n",
      "Note: you may need to restart the kernel to use updated packages.\n"
     ]
    }
   ],
   "source": [
    "# requests 라이브러리 설치여부 확인\n",
    "%pip show requests"
   ]
  },
  {
   "cell_type": "code",
   "execution_count": 2,
   "id": "f7798ea8",
   "metadata": {},
   "outputs": [
    {
     "name": "stdout",
     "output_type": "stream",
     "text": [
      "Name: beautifulsoup4\n",
      "Version: 4.12.3\n",
      "Summary: Screen-scraping library\n",
      "Home-page: https://www.crummy.com/software/BeautifulSoup/bs4/\n",
      "Author: \n",
      "Author-email: Leonard Richardson <leonardr@segfault.org>\n",
      "License: MIT License\n",
      "Location: c:\\Users\\user\\anaconda3\\Lib\\site-packages\n",
      "Requires: soupsieve\n",
      "Required-by: conda-build, nbconvert\n",
      "Note: you may need to restart the kernel to use updated packages.\n"
     ]
    }
   ],
   "source": [
    "# beautifulsoup4 라이브러리 설치여부 확인\n",
    "%pip show beautifulsoup4"
   ]
  },
  {
   "cell_type": "code",
   "execution_count": 4,
   "id": "bf80a429",
   "metadata": {},
   "outputs": [],
   "source": [
    "# reqeusts, bs4 import\n",
    "import requests\n",
    "import bs4\n",
    "# BeautifulSoup 클래스 import\n",
    "from bs4 import BeautifulSoup"
   ]
  },
  {
   "cell_type": "code",
   "execution_count": 6,
   "id": "9788d6ac",
   "metadata": {},
   "outputs": [
    {
     "name": "stdout",
     "output_type": "stream",
     "text": [
      "requests 버전 2.32.3\n",
      "beautifulsoup4 버전 4.12.3\n"
     ]
    }
   ],
   "source": [
    "# requests, bs4 버전 확인하기\n",
    "print(f'requests 버전 {requests.__version__}')\n",
    "print(f'beautifulsoup4 버전 {bs4.__version__}')"
   ]
  },
  {
   "cell_type": "markdown",
   "id": "ccb91def-cde3-4aeb-b0e5-2e7233500333",
   "metadata": {},
   "source": [
    "### 1. 뉴스 제목 추출하기"
   ]
  },
  {
   "cell_type": "code",
   "execution_count": 50,
   "id": "94c12fd6",
   "metadata": {},
   "outputs": [
    {
     "name": "stdout",
     "output_type": "stream",
     "text": [
      "https://news.naver.com/section/105\n",
      "<Response [200]>\n",
      "<class 'requests.models.Response'>\n",
      "200 True\n",
      "82\n",
      "<class 'bs4.element.ResultSet'>\n",
      "https://n.news.naver.com/mnews/article/032/0003361960\n",
      "악성 스팸문자, 발송단계에서 ‘X-ray’로 차단한다\n",
      "https://n.news.naver.com/mnews/article/comment/032/0003361960\n",
      "\n",
      "https://n.news.naver.com/mnews/article/015/0005116490\n",
      "\"영락없는 자녀 목소린데\"…AI 보이스피싱, AI로 방지\n",
      "https://n.news.naver.com/mnews/article/comment/015/0005116490\n",
      "\n",
      "https://n.news.naver.com/mnews/article/015/0005116019\n",
      "뤼튼·시나몬·무빈·스튜디오랩…AI 스타트업에 자금 몰린다\n",
      "https://n.news.naver.com/mnews/article/comment/015/0005116019\n",
      "\n",
      "https://n.news.naver.com/mnews/article/030/0003301410\n",
      "1분기 효자는 단연 '갤S25'…4년 만에 4조원 이익 돌파[이슈플러스]\n",
      "https://n.news.naver.com/mnews/article/comment/030/0003301410\n",
      "\n",
      "https://n.news.naver.com/mnews/article/277/0005574594\n",
      "\"가구 배치, 옷 코디도 도와준다\"…제미나이 라이브 갤S25 적용\n",
      "https://n.news.naver.com/mnews/article/comment/277/0005574594\n",
      "\n",
      "https://n.news.naver.com/mnews/article/092/0002369859\n",
      "순이익 3분의 1인데…MBK, '오스템임플란트' 고배당 논란\n",
      "https://n.news.naver.com/mnews/article/comment/092/0002369859\n",
      "\n",
      "https://n.news.naver.com/mnews/article/293/0000065897\n",
      "토스랩의 '잔디 몰입' 전략…챗GPT 없어도 AI로 리포트 쓰고 번역한다[테크체인저]\n",
      "https://n.news.naver.com/mnews/article/comment/293/0000065897\n",
      "\n",
      "https://n.news.naver.com/mnews/article/092/0002369855\n",
      "[유미's 픽] 트럼프 관세 폭탄 '코 앞'…글로벌 SW·AI 시장 찬바람 불까\n",
      "https://n.news.naver.com/mnews/article/comment/092/0002369855\n",
      "\n",
      "https://n.news.naver.com/mnews/article/421/0008180923\n",
      "'국민 게임' 포트리스 빠르면 올해 안에 돌아온다\n",
      "https://n.news.naver.com/mnews/article/comment/421/0008180923\n",
      "\n",
      "https://n.news.naver.com/mnews/article/469/0000858365\n",
      "국산 유전자재조합 탄저 백신 세계 첫 허가... GC녹십자, 1년반 만에 상용화\n",
      "https://n.news.naver.com/mnews/article/comment/469/0000858365\n",
      "\n",
      "https://n.news.naver.com/mnews/article/025/0003432725\n",
      "[팩플] 미중 AI격차 좁혀졌다...LG AI 엑사원 3.5 주목할만한 모델 선정\n",
      "https://n.news.naver.com/mnews/article/comment/025/0003432725\n",
      "\n",
      "https://n.news.naver.com/mnews/article/009/0005472903\n",
      "지브리풍 인기 끌자...네이버 스노우도 “일본 애니 프사 만들어드려요”\n",
      "https://n.news.naver.com/mnews/article/comment/009/0005472903\n",
      "\n",
      "https://n.news.naver.com/mnews/article/020/0003626847\n",
      "[생활 속 IT] 아이폰 ‘나의 찾기’로 실시간 위치 공유·제품 찾는 방법\n",
      "https://n.news.naver.com/mnews/article/comment/020/0003626847\n",
      "\n",
      "https://n.news.naver.com/mnews/article/138/0002194283\n",
      "[韓보안진단]⑥ 20년만에 19곳 인수…팔로알토네트웍스 성장 비결은 '통합'\n",
      "https://n.news.naver.com/mnews/article/comment/138/0002194283\n",
      "\n",
      "https://n.news.naver.com/mnews/article/243/0000076002\n",
      "\"아이폰 50만원 올라?\"…관세에 애플스토어 뛰어간 미국인들\n",
      "https://n.news.naver.com/mnews/article/comment/243/0000076002\n",
      "\n",
      "https://n.news.naver.com/mnews/article/138/0002194282\n",
      "‘재해복구’ 없는 범정부 초거대AI 공통기반 구현사업, 졸속 추진 우려\n",
      "https://n.news.naver.com/mnews/article/comment/138/0002194282\n",
      "\n",
      "https://n.news.naver.com/mnews/article/421/0008180886\n",
      "[일문일답] 의협, 정부·국회에 대화 요구…\"교육 어려우면 안 뽑아야\"\n",
      "https://n.news.naver.com/mnews/article/comment/421/0008180886\n",
      "\n",
      "https://n.news.naver.com/mnews/article/584/0000031788\n",
      "'왕좌의 게임' 늑대 부활…1만2500년전 멸종 '다이어울프' 복원\n",
      "https://n.news.naver.com/mnews/article/comment/584/0000031788\n",
      "\n",
      "https://n.news.naver.com/mnews/article/138/0002194277\n",
      "'기대 이상' 성과 낸 삼성전자…커진 美 관세 리스크·고객사 확보가 과제\n",
      "https://n.news.naver.com/mnews/article/comment/138/0002194277\n",
      "\n",
      "https://n.news.naver.com/mnews/article/092/0002369853\n",
      "뉴엔AI, 英 FT가 뽑은 고성장 '500대 기업' 등극…IPO로 성장 정점 찍나\n",
      "https://n.news.naver.com/mnews/article/comment/092/0002369853\n",
      "\n",
      "https://n.news.naver.com/mnews/article/001/0015318051\n",
      "[마켓톺] 관세전쟁에 빛바랜 삼성전자의 호실적…반등의 조건은\n",
      "https://n.news.naver.com/mnews/article/comment/001/0015318051\n",
      "\n",
      "https://n.news.naver.com/mnews/article/028/0002739882\n",
      "한국계 우주비행사 태운 러 우주선, 우주정거장 향해 발사\n",
      "https://n.news.naver.com/mnews/article/comment/028/0002739882\n",
      "\n",
      "https://n.news.naver.com/mnews/article/030/0003301426\n",
      "LG이노텍, 반도체 유리기판 투자 개시…구미에 시생산 라인 구축\n",
      "https://n.news.naver.com/mnews/article/comment/030/0003301426\n",
      "\n",
      "https://n.news.naver.com/mnews/article/022/0004026009\n",
      "자라서 우주비행사 된 韓 이민자 가정 소년…미래 위한 ISS 임무 수행한다\n",
      "https://n.news.naver.com/mnews/article/comment/022/0004026009\n",
      "\n",
      "https://n.news.naver.com/mnews/article/082/0001320209\n",
      "“쪼개고 또 쪼개고”… 돈만 좇는 GC녹십자, 주가 추락에도 주주는 없다\n",
      "https://n.news.naver.com/mnews/article/comment/082/0001320209\n",
      "\n",
      "https://n.news.naver.com/mnews/article/009/0005472875\n",
      "구글, ‘AI 모드’에 멀티모달 검색 추가…이미지로 검색까지\n",
      "https://n.news.naver.com/mnews/article/comment/009/0005472875\n",
      "\n",
      "https://n.news.naver.com/mnews/article/011/0004471627\n",
      "[영상] '인간 태운 늑대 로봇 질주'…日 차세대 이동수단 '콜레오' 화제\n",
      "https://n.news.naver.com/mnews/article/comment/011/0004471627\n",
      "\n",
      "https://n.news.naver.com/mnews/article/421/0008180853\n",
      "뤼튼 \"쓸수록 돈버는 무료 AI모델 지향…편의점 등 30여곳 제휴\"\n",
      "https://n.news.naver.com/mnews/article/comment/421/0008180853\n",
      "\n",
      "https://n.news.naver.com/mnews/article/421/0008180849\n",
      "갤S26 놓고 엇갈리는 전망…\"카메라·S펜 큰 변화 없을 것\"\n",
      "https://n.news.naver.com/mnews/article/comment/421/0008180849\n",
      "\n",
      "https://n.news.naver.com/mnews/article/092/0002369845\n",
      "\"중고거래, 피해는 사용자 몫\"…개인 보안 솔루션 갖춰야\n",
      "https://n.news.naver.com/mnews/article/comment/092/0002369845\n",
      "\n",
      "https://n.news.naver.com/mnews/article/092/0002369843\n",
      "로봇에 진심인 中, 휴머노이드 로봇 훈련 시설 만들었다\n",
      "https://n.news.naver.com/mnews/article/comment/092/0002369843\n",
      "\n",
      "https://n.news.naver.com/mnews/article/030/0003301410\n",
      "[이슈플러스]1분기 효자는 단연 '갤S25'…4년 만에 4조원 이익 돌파\n",
      "https://n.news.naver.com/mnews/article/comment/030/0003301410\n",
      "\n",
      "https://n.news.naver.com/mnews/article/030/0003301404\n",
      "[이슈플러스]삼성전자 1분기 메모리 실적 '선방'\n",
      "https://n.news.naver.com/mnews/article/comment/030/0003301404\n",
      "\n",
      "https://n.news.naver.com/mnews/article/030/0003301401\n",
      "[과학기술이 미래다] 〈158〉 과기자문회의 '기술개발복권' 발행 건의\n",
      "https://n.news.naver.com/mnews/article/comment/030/0003301401\n",
      "\n",
      "https://n.news.naver.com/mnews/article/092/0002369838\n",
      "소액주주 눈높이 맞춘다…한화에어로, 유증 3.6조→2.3조 축소\n",
      "https://n.news.naver.com/mnews/article/comment/092/0002369838\n",
      "\n",
      "https://n.news.naver.com/mnews/article/421/0008180782\n",
      "의협 \"작년 2월 전으로 돌아가야\"…정부·국회에 대화 요구(종합)\n",
      "https://n.news.naver.com/mnews/article/comment/421/0008180782\n",
      "\n",
      "https://n.news.naver.com/mnews/article/092/0002369836\n",
      "한화오션, 차세대 드릴십 인도…심해 시추 본격 진출\n",
      "https://n.news.naver.com/mnews/article/comment/092/0002369836\n",
      "\n",
      "https://n.news.naver.com/mnews/article/018/0005982544\n",
      "“보여주면 알아서 설명” 삼성, 갤럭시 S25에 ‘실시간 비주얼 AI’ 도입\n",
      "https://n.news.naver.com/mnews/article/comment/018/0005982544\n",
      "\n",
      "https://n.news.naver.com/mnews/article/008/0005177554\n",
      "\"5G 투자회수도 멀었는데\"…글로벌 통신업계 '6G' 회의론\n",
      "https://n.news.naver.com/mnews/article/comment/008/0005177554\n",
      "\n",
      "https://n.news.naver.com/mnews/article/014/0005332970\n",
      "삼성 1분기 실적 효자는 '갤S25'…2Q '슬림' 판매량 관건\n",
      "https://n.news.naver.com/mnews/article/comment/014/0005332970\n",
      "\n",
      "https://n.news.naver.com/mnews/article/648/0000035139\n",
      "영화 'HER' 속 사만사처럼…뤼튼의 '1인 1AI' 전략\n",
      "https://n.news.naver.com/mnews/article/comment/648/0000035139\n",
      "\n"
     ]
    }
   ],
   "source": [
    "# IT/과학 뉴스 \n",
    "req_param = {\n",
    "    'sid': 105\n",
    "}\n",
    "# \n",
    "url = 'https://news.naver.com/section/{sid}'.format(**req_param)\n",
    "print(url)\n",
    "\n",
    "# url2 = 'https://news.naver.com/section/105'\n",
    "\n",
    "# 요청 헤더 설정 : 브라우저 정보 (사람처럼 보이게 하려고 설정하는 것)\n",
    "req_header = {\n",
    "    'user-agent': 'Mozilla/5.0 (Windows NT 10.0; Win64; x64) AppleWebKit/537.36 (KHTML, like Gecko) Chrome/104.0.0.0 Safari/537.36'\n",
    "}\n",
    "\n",
    "# requests 의 get() 함수 호출하기 \n",
    "res = requests.get(url, headers= req_header)\n",
    "print(res)\n",
    "print(type(res))\n",
    "print(res.status_code, res.ok)\n",
    "\n",
    "# 응답(response)이 OK 이면\n",
    "if res.ok:\n",
    "    # 응답 (response)에서 text 추출 - 마우스 우클릭 source 보기\n",
    "    html = res.text\n",
    "    # print(html)\n",
    "    # BeautifulSoup 객체 생성  \n",
    "    soup = BeautifulSoup(html,'html.parser')\n",
    "    # print(soup)\n",
    "    # CSS 선택자\n",
    "    # <div class='sa_text'><a href=''></a></div>\n",
    "    print(len(soup.select(\"div.sa_text a[href*='mnews/article']\")))\n",
    "    # print(soup.select(\"div.sa_text a[href*='mnews/article']\"))\n",
    "    a_tag_list = soup.select(\"div.sa_text a[href*='mnews/article']\")\n",
    "    print(type(a_tag_list)) # [<a href=\"http://\">뉴스제목</a>]: ResultSet 객체, <a></a>: Tag 객체\n",
    "    # print(a_tag_list) #[<a></a>, <a></a]\n",
    "\n",
    "    # <a> 태그 리스트 순회하기 \n",
    "    for a_tag in a_tag_list:\n",
    "        # print(type(a_tag))\n",
    "        # print(a_tag.text.strip())\n",
    "        title = a_tag.text.strip()\n",
    "        #href 속성의 값을 가져오기\n",
    "        link = a_tag['href']\n",
    "        print(link)\n",
    "        print(title)\n",
    "   \n",
    "else:\n",
    "    # 응답(response)이 Error 이면 status code 출력  \n",
    "    print(f'에러 코드 = {res.status_code}')  \n",
    "\n"
   ]
  },
  {
   "cell_type": "markdown",
   "id": "45640860-a449-4285-90d7-5f300292b461",
   "metadata": {},
   "source": [
    "### 1.1 뉴스제목 추출하는 함수 선언하기"
   ]
  },
  {
   "cell_type": "code",
   "execution_count": 44,
   "id": "9f2e4ef8",
   "metadata": {},
   "outputs": [],
   "source": [
    "import requests\n",
    "from bs4 import BeautifulSoup\n",
    "\n",
    "section_dict = {\n",
    "    100: \"정치\",\n",
    "    101: \"경제\",\n",
    "    102: \"사회\",\n",
    "    103: \"생활/문화\",\n",
    "    104: \"세계\",\n",
    "    105: \"IT/과학\",\n",
    "}\n",
    "\n",
    "\n",
    "def print_news(sid):  # print_new(103,'생활/문화')\n",
    "    section = section_dict[sid]\n",
    "    req_param = {\"sid\": sid}\n",
    "    #\n",
    "    # req_param 안 쓰는 경우엔\n",
    "    # url = f\"https://news.naver.com/section/{sid}\"\n",
    "    url = \"https://news.naver.com/section/{sid}\".format(**req_param)\n",
    "    print(f\"====> {url} {section} 뉴스 <====\")\n",
    "\n",
    "    # 요청 헤더 설정 : 브라우저 정보 (사람처럼 보이게 하려고 설정하는 것)\n",
    "    req_header = {\n",
    "        \"user-agent\": \"Mozilla/5.0 (Windows NT 10.0; Win64; x64) AppleWebKit/537.36 (KHTML, like Gecko) Chrome/104.0.0.0 Safari/537.36\"\n",
    "    }\n",
    "\n",
    "    # requests 의 get() 함수 호출하기\n",
    "    res = requests.get(url, headers=req_header)\n",
    "    print(res)\n",
    "    print(type(res))\n",
    "    print(res.status_code, res.ok)\n",
    "\n",
    "    # 응답(response)이 OK 이면\n",
    "    if res.ok:\n",
    "        # 응답 (response)에서 text 추출 - 마우스 우클릭 source 보기\n",
    "        html = res.text\n",
    "        # print(html)\n",
    "        # BeautifulSoup 객체 생성  \n",
    "        soup = BeautifulSoup(html,'html.parser')\n",
    "        # print(soup)\n",
    "        # CSS 선택자\n",
    "        # <div class='sa_text'><a href=''></a></div>\n",
    "        print(len(soup.select(\"div.sa_text a[href*='mnews/article']\")))\n",
    "        # print(soup.select(\"div.sa_text a[href*='mnews/article']\"))\n",
    "        a_tag_list = soup.select(\"div.sa_text a[href*='mnews/article']\")\n",
    "        print(type(a_tag_list)) # [<a href=\"http://\">뉴스제목</a>]: ResultSet 객체, <a></a>: Tag 객체\n",
    "        # print(a_tag_list) #[<a></a>, <a></a]\n",
    "\n",
    "        # <a> 태그 리스트 순회하기 \n",
    "        for a_tag in a_tag_list:\n",
    "            # print(type(a_tag))\n",
    "            # print(a_tag.text.strip())\n",
    "            title = a_tag.text.strip()\n",
    "            #href 속성의 값을 가져오기\n",
    "            link = a_tag['href']\n",
    "            print(link, title)\n",
    "   \n",
    "    else:\n",
    "        # 응답(response)이 Error 이면 status code 출력  \n",
    "        print(f'에러 코드 = {res.status_code}') \n",
    "   "
   ]
  },
  {
   "cell_type": "code",
   "execution_count": 46,
   "id": "858952c6",
   "metadata": {},
   "outputs": [
    {
     "name": "stdout",
     "output_type": "stream",
     "text": [
      "====> https://news.naver.com/section/104 세계 뉴스 <====\n",
      "<Response [200]>\n",
      "<class 'requests.models.Response'>\n",
      "200 True\n",
      "90\n",
      "<class 'bs4.element.ResultSet'>\n",
      "https://n.news.naver.com/mnews/article/082/0001320137 시총 1위 애플 주가 3일간 19% 하락…“상호관세 아이폰에는 재앙”\n",
      "https://n.news.naver.com/mnews/article/comment/082/0001320137 \n",
      "https://n.news.naver.com/mnews/article/001/0015316040 트럼프, 中에 50% 추가관세 위협…\"다른 나라와는 즉시 협상\"(종합)\n",
      "https://n.news.naver.com/mnews/article/comment/001/0015316040 \n",
      "https://n.news.naver.com/mnews/article/016/0002454342 상어출몰에 성폭력까지…신혼여행 성지 ‘이 섬’ 어쩌다 이지경\n",
      "https://n.news.naver.com/mnews/article/comment/016/0002454342 \n",
      "https://n.news.naver.com/mnews/article/214/0001416804 중국 관영매체 \"미국 농산품 관세 대폭 인상·가금육 수입 금지 검토\"\n",
      "https://n.news.naver.com/mnews/article/comment/214/0001416804 \n",
      "https://n.news.naver.com/mnews/article/052/0002177110 '상호관세 연구' 경제학자 \"트럼프, 내 논문 완전히 잘못 해석\"\n",
      "https://n.news.naver.com/mnews/article/comment/052/0002177110 \n",
      "https://n.news.naver.com/mnews/article/020/0003626815 US스틸 결국 일본제철에 인수되나…트럼프 “불허 재심사”\n",
      "https://n.news.naver.com/mnews/article/comment/020/0003626815 \n",
      "https://n.news.naver.com/mnews/article/016/0002454266 트럼프 “中 보복 철회 안하면 50% 추가관세”\n",
      "https://n.news.naver.com/mnews/article/comment/016/0002454266 \n",
      "https://n.news.naver.com/mnews/article/421/0008178515 하마스 \"이스라엘 치게 5억불 달라\" 이란에 요청…비밀서한 공개\n",
      "https://n.news.naver.com/mnews/article/comment/421/0008178515 \n",
      "https://n.news.naver.com/mnews/article/056/0011927358 “중국군, 실전 대비 ‘타이완 상륙작전용 바지선’ 테스트”\n",
      "https://n.news.naver.com/mnews/article/comment/056/0011927358 \n",
      "https://n.news.naver.com/mnews/article/055/0001247455 미 밴스 부통령, '중국 촌놈들' 비하…중국 관영지 \"충격 발언\"\n",
      "https://n.news.naver.com/mnews/article/comment/055/0001247455 \n",
      "https://n.news.naver.com/mnews/article/025/0003432705 중국, 언제까지 감정의 대상인가… 젊은 세대의 냉소가 위험하다\n",
      "https://n.news.naver.com/mnews/article/comment/025/0003432705 \n",
      "https://n.news.naver.com/mnews/article/421/0008180801 다우 선물 2% 급등, 랠리 예고…관세에 벌써 내성 생겼나?\n",
      "https://n.news.naver.com/mnews/article/comment/421/0008180801 \n",
      "https://n.news.naver.com/mnews/article/011/0004471609 \"아이폰 곧 '300만원' 넘는다고?\"…애플 매장 달려간 소비자들, 무슨 일?\n",
      "https://n.news.naver.com/mnews/article/comment/011/0004471609 \n",
      "https://n.news.naver.com/mnews/article/025/0003432700 “싸움 먼저” 선언한 中, 농산품 관세, 가금육 수입금지 등 보복 예고\n",
      "https://n.news.naver.com/mnews/article/comment/025/0003432700 \n",
      "https://n.news.naver.com/mnews/article/052/0002177215 일부러 안 먹었는데 '대반전'...알고 보니 놀라운 영양성분 [지금이뉴스]\n",
      "https://n.news.naver.com/mnews/article/comment/052/0002177215 \n",
      "https://n.news.naver.com/mnews/article/025/0003432694 트럼프 \"이란과 직접 핵협상\"…이스라엘에 사드 추가 지원도\n",
      "https://n.news.naver.com/mnews/article/comment/025/0003432694 \n",
      "https://n.news.naver.com/mnews/article/032/0003362016 유럽, 미국에 무관세 제안···트럼프 “515조원 에너지 구입하면 생각해볼게”\n",
      "https://n.news.naver.com/mnews/article/comment/032/0003362016 \n",
      "https://n.news.naver.com/mnews/article/001/0015317888 미-이란 12일 오만서 핵협상…트럼프 \"아주 큰 회담\"(종합)\n",
      "https://n.news.naver.com/mnews/article/comment/001/0015317888 \n",
      "https://n.news.naver.com/mnews/article/001/0015317878 美의회, 中 바이오테크 경계령…\"대처 안하면 3년뒤 역전\"\n",
      "https://n.news.naver.com/mnews/article/comment/001/0015317878 \n",
      "https://n.news.naver.com/mnews/article/021/0002701771 “비싸지기 전에 빨리 사놓자”…美서 갑자기 불티난다는 ‘이 제품’\n",
      "https://n.news.naver.com/mnews/article/comment/021/0002701771 \n",
      "https://n.news.naver.com/mnews/article/366/0001067661 트럼프 관세 공격 대비 마친 中… 관영 매체 “최소 6가지 수 준비”\n",
      "https://n.news.naver.com/mnews/article/comment/366/0001067661 \n",
      "https://n.news.naver.com/mnews/article/001/0015317855 머스크 자산도 롤러코스터…3천억달러 아래로\n",
      "https://n.news.naver.com/mnews/article/comment/001/0015317855 \n",
      "https://n.news.naver.com/mnews/article/020/0003626815 US스틸 결국 일본제철에 인수되나…트럼프 “불허 재심사”\n",
      "https://n.news.naver.com/mnews/article/comment/020/0003626815 \n",
      "https://n.news.naver.com/mnews/article/001/0015317851 한국계 조니 김 태운 러 우주선 성공적 발사…ISS서 임무수행(종합)\n",
      "https://n.news.naver.com/mnews/article/comment/001/0015317851 \n",
      "https://n.news.naver.com/mnews/article/003/0013171184 日외교청서 \"韓 파트너\"라며 또 '독도 불법 점거' 억지 주장(종합)\n",
      "https://n.news.naver.com/mnews/article/comment/003/0013171184 \n",
      "https://n.news.naver.com/mnews/article/025/0003432689 트럼프·이시바 협상 막올랐다…협상에 최측근 경제재생상 투입\n",
      "https://n.news.naver.com/mnews/article/comment/025/0003432689 \n",
      "https://n.news.naver.com/mnews/article/055/0001247426 [뉴블더] 아이폰이 330만 원? 불안한 미국인들 사재기 조짐\n",
      "https://n.news.naver.com/mnews/article/comment/055/0001247426 \n",
      "https://n.news.naver.com/mnews/article/001/0015317837 美부통령의 '중국 촌놈들' 비하에 中관영지 \"충격적 발언\"\n",
      "https://n.news.naver.com/mnews/article/comment/001/0015317837 \n",
      "https://n.news.naver.com/mnews/article/055/0001247424 트럼프발 경기침체 공포에…미국·유럽 금리인하 서두를까\n",
      "https://n.news.naver.com/mnews/article/comment/055/0001247424 \n",
      "https://n.news.naver.com/mnews/article/422/0000729037 트럼프는 침체·인플레 없다지만…美 재계는 \"경제 핵겨울 온다\"\n",
      "https://n.news.naver.com/mnews/article/comment/422/0000729037 \n",
      "https://n.news.naver.com/mnews/article/001/0015317761 中국부펀드들, '美관세충격'에 증시 부양…중앙은행도 뒷받침(종합)\n",
      "https://n.news.naver.com/mnews/article/comment/001/0015317761 \n",
      "https://n.news.naver.com/mnews/article/214/0001416827 \"'관세 유예'는 가짜 뉴스\"‥미 증시 대혼란\n",
      "https://n.news.naver.com/mnews/article/comment/214/0001416827 \n",
      "https://n.news.naver.com/mnews/article/469/0000858319 트럼프의 '관세 밀당'... 각국 애원에 퇴짜놓고 중국은 본보기 매질\n",
      "https://n.news.naver.com/mnews/article/comment/469/0000858319 \n",
      "https://n.news.naver.com/mnews/article/421/0008180567 \"이스라엘, 가자 완충지대 무차별 확대…'보이면 쏘는' 살상구역\"\n",
      "https://n.news.naver.com/mnews/article/comment/421/0008180567 \n",
      "https://n.news.naver.com/mnews/article/023/0003898287 “미국의 관세에 반격” 중국이 준비했다는 ‘6가지 묘수’\n",
      "https://n.news.naver.com/mnews/article/comment/023/0003898287 \n",
      "https://n.news.naver.com/mnews/article/023/0003898284 ‘왕좌의 게임’ 늑대 다이어울프, 멸종 1만 3000년 만에 복원\n",
      "https://n.news.naver.com/mnews/article/comment/023/0003898284 \n",
      "https://n.news.naver.com/mnews/article/028/0002739856 트럼프에 반기 든 월가 “전 세계 향해 경제 핵전쟁”\n",
      "https://n.news.naver.com/mnews/article/comment/028/0002739856 \n",
      "https://n.news.naver.com/mnews/article/008/0005177527 화성 간다더니 \"달 먼저\"…트럼프·머스크, 결별의 또 다른 이유\n",
      "https://n.news.naver.com/mnews/article/comment/008/0005177527 \n",
      "https://n.news.naver.com/mnews/article/003/0013171062 \"104% 관세\" vs \"끝까지 간다\"…치킨게임 치닫는 美中\n",
      "https://n.news.naver.com/mnews/article/comment/003/0013171062 \n",
      "https://n.news.naver.com/mnews/article/052/0002177195 [자막뉴스] '내가 다 알려줬잖아'...폭락장서 오히려 자산 불린 버핏\n",
      "https://n.news.naver.com/mnews/article/comment/052/0002177195 \n",
      "https://n.news.naver.com/mnews/article/421/0008180449 머스크, 트럼프 상호관세 만류했었다…'헤어질 결심' 주목\n",
      "https://n.news.naver.com/mnews/article/comment/421/0008180449 \n",
      "https://n.news.naver.com/mnews/article/001/0015317588 트럼프발 R 공포에…미국·유럽 금리인하 서두를까\n",
      "https://n.news.naver.com/mnews/article/comment/001/0015317588 \n",
      "https://n.news.naver.com/mnews/article/016/0002454366 세계 3대 의류 수출 ‘이 나라’ 트럼프發 관세 충격에 “미국서 주문 중단 쇄도”\n",
      "https://n.news.naver.com/mnews/article/comment/016/0002454366 \n",
      "https://n.news.naver.com/mnews/article/001/0015317567 \"중국군, '대만 상륙작전용 바지선' 실전대비 테스트 돌입\"\n",
      "https://n.news.naver.com/mnews/article/comment/001/0015317567 \n",
      "https://n.news.naver.com/mnews/article/003/0013170882 \"중국, 트럼프발 관세폭격에 화력 비축\"…경희토류 제한도 가능\n",
      "https://n.news.naver.com/mnews/article/comment/003/0013170882 \n"
     ]
    }
   ],
   "source": [
    "print_news(104)"
   ]
  },
  {
   "cell_type": "markdown",
   "id": "323196dc",
   "metadata": {},
   "source": [
    "### 2. Image 다운로드\n",
    "* referer 요청 헤더를 반드시 설정해야 한다."
   ]
  },
  {
   "cell_type": "code",
   "execution_count": null,
   "id": "c72d6cb1",
   "metadata": {},
   "outputs": [
    {
     "name": "stdout",
     "output_type": "stream",
     "text": [
      "200\n",
      "writing to 20220804112251_d97bd1e1b38f0cd022e4e3639d2926b3_IMAG01_1.jpg(299,319 bytes)\n",
      "200\n",
      "writing to 20220804112251_d97bd1e1b38f0cd022e4e3639d2926b3_IMAG01_2.jpg(163,333 bytes)\n",
      "200\n",
      "writing to 20220804112251_d97bd1e1b38f0cd022e4e3639d2926b3_IMAG01_3.jpg(182,530 bytes)\n"
     ]
    }
   ],
   "source": [
    "import requests\n",
    "import os\n",
    "\n",
    "req_header = {\n",
    "    'referer':''\n",
    "}\n",
    "\n",
    "img_urls = [\n",
    "    'https://image-comic.pstatic.net/webtoon/798173/5/20220804112251_d97bd1e1b38f0cd022e4e3639d2926b3_IMAG01_1.jpg',\n",
    "    'https://image-comic.pstatic.net/webtoon/798173/5/20220804112251_d97bd1e1b38f0cd022e4e3639d2926b3_IMAG01_2.jpg',\n",
    "    'https://image-comic.pstatic.net/webtoon/798173/5/20220804112251_d97bd1e1b38f0cd022e4e3639d2926b3_IMAG01_3.jpg'\n",
    "]\n",
    "\n",
    "for img_url in img_urls:\n",
    "    pass\n",
    "    # requests 의 get(url, headers) 함수 호출하기 \n",
    "        \n",
    "        # binary 응답 데이터 가져오기\n",
    "        \n",
    "        # url에서 파일명만 추출하기\n",
    "        \n",
    "        # binday data를 file에 write하기\n"
   ]
  },
  {
   "cell_type": "markdown",
   "id": "e8b00a04",
   "metadata": {},
   "source": [
    "* 현재 요청된 페이지의 image 모두 다운로드 해보기"
   ]
  },
  {
   "cell_type": "code",
   "execution_count": null,
   "id": "b30f7bf5",
   "metadata": {},
   "outputs": [],
   "source": []
  },
  {
   "cell_type": "markdown",
   "id": "2ac9f5f9",
   "metadata": {},
   "source": [
    "### 3. 파일 업로드 하기\n",
    "* http://httpbin.org/post 업로드 요청을 할 수 있는 url"
   ]
  },
  {
   "cell_type": "code",
   "execution_count": null,
   "id": "04da4790",
   "metadata": {},
   "outputs": [
    {
     "name": "stdout",
     "output_type": "stream",
     "text": [
      "200\n"
     ]
    }
   ],
   "source": [
    "import requests\n",
    "\n",
    "upload_files = {\n",
    "    \n",
    "}\n",
    "#print(upload_files)\n",
    "\n",
    "url = 'http://httpbin.org/post'\n",
    "# file 업로드 하려면 requests의 post 함수에 files 속성을 사용합니다."
   ]
  },
  {
   "cell_type": "markdown",
   "id": "7ad65f12",
   "metadata": {},
   "source": [
    "### 4. 캡챠(이미지) API 호출하기\n",
    "* urllib 사용\n",
    "* 1. 캡차 키 발급 요청\n",
    "  2. 캡차 이미지 요청\n",
    "  3. 사용자 입력값 검증 요청"
   ]
  },
  {
   "cell_type": "code",
   "execution_count": 2,
   "id": "bc4ae360-e772-4873-8642-d3494edd34e1",
   "metadata": {},
   "outputs": [],
   "source": [
    "# 캡차 키 발급 요청\n"
   ]
  },
  {
   "cell_type": "code",
   "execution_count": 1,
   "id": "7b95b6a0-c218-4792-82a6-da4d80872071",
   "metadata": {},
   "outputs": [],
   "source": [
    "# 캡차 이미지 요청\n"
   ]
  },
  {
   "cell_type": "code",
   "execution_count": 3,
   "id": "a79076af-2cd0-4de2-8301-316b9130c55e",
   "metadata": {},
   "outputs": [],
   "source": [
    "#  사용자 입력값 검증 요청\n",
    "\n"
   ]
  },
  {
   "cell_type": "markdown",
   "id": "b7d984a6",
   "metadata": {},
   "source": [
    "* requests를 사용하는 코드로 변경하기\n",
    "* [requests docs](https://requests.readthedocs.io/en/latest/user/quickstart/)"
   ]
  },
  {
   "cell_type": "code",
   "execution_count": null,
   "id": "727b427b",
   "metadata": {
    "scrolled": true
   },
   "outputs": [
    {
     "name": "stdout",
     "output_type": "stream",
     "text": [
      "Error Code: 403\n"
     ]
    }
   ],
   "source": [
    "# 사용자 입력값 검증 요청\n",
    "\n"
   ]
  },
  {
   "cell_type": "markdown",
   "id": "d5e1179a",
   "metadata": {},
   "source": [
    "### 5. 블로그 검색하기"
   ]
  },
  {
   "cell_type": "code",
   "execution_count": null,
   "id": "877d0c7f",
   "metadata": {},
   "outputs": [],
   "source": [
    "import requests\n",
    "import pprint\n",
    "\n",
    "headers = {\n",
    "    'X-Naver-Client-Id': '',\n",
    "    'X-Naver-Client-Secret': '',\n",
    "}\n",
    "\n",
    "payload = {\n",
    "    'query': '파이썬',\n",
    "    'display': 100,\n",
    "    'sort': 'sim'\n",
    "}\n",
    "\n",
    "url = 'https://openapi.naver.com/v1/search/blog.json'\n",
    "\n",
    "\n",
    "# requests get(url, params, headers) 요청 \n",
    "\n",
    "# json() 함수로 응답 결과 가져오오기\n",
    "# 'title' , 'bloggername' , 'description' , 'bloggerlink' , 'link'\n",
    "\n",
    "# 'data/nhnblog.txt' 파일 생성하기\n"
   ]
  }
 ],
 "metadata": {
  "kernelspec": {
   "display_name": "base",
   "language": "python",
   "name": "python3"
  },
  "language_info": {
   "codemirror_mode": {
    "name": "ipython",
    "version": 3
   },
   "file_extension": ".py",
   "mimetype": "text/x-python",
   "name": "python",
   "nbconvert_exporter": "python",
   "pygments_lexer": "ipython3",
   "version": "3.12.7"
  }
 },
 "nbformat": 4,
 "nbformat_minor": 5
}
